{
 "cells": [
  {
   "cell_type": "markdown",
   "metadata": {},
   "source": [
    "# Sun Chuanneng.\n",
    "I adopted two different methods. One is weighted Word2Vec and the other is Doc2vecv"
   ]
  },
  {
   "cell_type": "markdown",
   "metadata": {},
   "source": [
    "## 1. Data Preprocessing"
   ]
  },
  {
   "cell_type": "code",
   "execution_count": 1,
   "metadata": {
    "ExecuteTime": {
     "end_time": "2018-02-07T09:09:29.247593Z",
     "start_time": "2018-02-07T09:09:18.759020Z"
    },
    "collapsed": true
   },
   "outputs": [],
   "source": [
    "import pandas as pd\n",
    "import numpy as np\n",
    "import matplotlib.pyplot as plt\n",
    "import seaborn as sns\n",
    "%matplotlib inline"
   ]
  },
  {
   "cell_type": "code",
   "execution_count": 2,
   "metadata": {
    "ExecuteTime": {
     "end_time": "2018-02-07T08:56:57.743434Z",
     "start_time": "2018-02-07T08:56:56.004658Z"
    },
    "collapsed": true
   },
   "outputs": [],
   "source": [
    "data = pd.read_csv('./data/fake_or_real_news.csv')"
   ]
  },
  {
   "cell_type": "code",
   "execution_count": 8,
   "metadata": {
    "ExecuteTime": {
     "end_time": "2018-02-02T16:08:30.569347Z",
     "start_time": "2018-02-02T16:08:30.354871Z"
    }
   },
   "outputs": [
    {
     "name": "stdout",
     "output_type": "stream",
     "text": [
      "<class 'pandas.core.frame.DataFrame'>\n",
      "RangeIndex: 6335 entries, 0 to 6334\n",
      "Data columns (total 5 columns):\n",
      "Unnamed: 0       6335 non-null int64\n",
      "title            6335 non-null object\n",
      "text             6335 non-null object\n",
      "label            6335 non-null object\n",
      "title_vectors    6335 non-null object\n",
      "dtypes: int64(1), object(4)\n",
      "memory usage: 247.5+ KB\n"
     ]
    }
   ],
   "source": [
    "data.info()"
   ]
  },
  {
   "cell_type": "code",
   "execution_count": 15,
   "metadata": {
    "ExecuteTime": {
     "end_time": "2018-02-02T12:43:11.084681Z",
     "start_time": "2018-02-02T12:43:11.062669Z"
    }
   },
   "outputs": [
    {
     "data": {
      "text/html": [
       "<div>\n",
       "<style>\n",
       "    .dataframe thead tr:only-child th {\n",
       "        text-align: right;\n",
       "    }\n",
       "\n",
       "    .dataframe thead th {\n",
       "        text-align: left;\n",
       "    }\n",
       "\n",
       "    .dataframe tbody tr th {\n",
       "        vertical-align: top;\n",
       "    }\n",
       "</style>\n",
       "<table border=\"1\" class=\"dataframe\">\n",
       "  <thead>\n",
       "    <tr style=\"text-align: right;\">\n",
       "      <th></th>\n",
       "      <th>Unnamed: 0</th>\n",
       "      <th>title</th>\n",
       "      <th>text</th>\n",
       "      <th>label</th>\n",
       "      <th>title_vectors</th>\n",
       "    </tr>\n",
       "  </thead>\n",
       "  <tbody>\n",
       "    <tr>\n",
       "      <th>0</th>\n",
       "      <td>8476</td>\n",
       "      <td>You Can Smell Hillary’s Fear</td>\n",
       "      <td>Daniel Greenfield, a Shillman Journalism Fello...</td>\n",
       "      <td>FAKE</td>\n",
       "      <td>[ 1.1533764e-02  4.2144405e-03  1.9692603e-02 ...</td>\n",
       "    </tr>\n",
       "    <tr>\n",
       "      <th>1</th>\n",
       "      <td>10294</td>\n",
       "      <td>Watch The Exact Moment Paul Ryan Committed Pol...</td>\n",
       "      <td>Google Pinterest Digg Linkedin Reddit Stumbleu...</td>\n",
       "      <td>FAKE</td>\n",
       "      <td>[ 0.11267698  0.02518966 -0.00212591  0.021095...</td>\n",
       "    </tr>\n",
       "    <tr>\n",
       "      <th>2</th>\n",
       "      <td>3608</td>\n",
       "      <td>Kerry to go to Paris in gesture of sympathy</td>\n",
       "      <td>U.S. Secretary of State John F. Kerry said Mon...</td>\n",
       "      <td>REAL</td>\n",
       "      <td>[ 0.04253004  0.04300297  0.01848392  0.048672...</td>\n",
       "    </tr>\n",
       "    <tr>\n",
       "      <th>3</th>\n",
       "      <td>10142</td>\n",
       "      <td>Bernie supporters on Twitter erupt in anger ag...</td>\n",
       "      <td>— Kaydee King (@KaydeeKing) November 9, 2016 T...</td>\n",
       "      <td>FAKE</td>\n",
       "      <td>[ 0.10801624  0.11583211  0.02874823  0.061732...</td>\n",
       "    </tr>\n",
       "    <tr>\n",
       "      <th>4</th>\n",
       "      <td>875</td>\n",
       "      <td>The Battle of New York: Why This Primary Matters</td>\n",
       "      <td>It's primary day in New York and front-runners...</td>\n",
       "      <td>REAL</td>\n",
       "      <td>[ 1.69016439e-02  7.13498285e-03 -7.81233795e-...</td>\n",
       "    </tr>\n",
       "  </tbody>\n",
       "</table>\n",
       "</div>"
      ],
      "text/plain": [
       "   Unnamed: 0                                              title  \\\n",
       "0        8476                       You Can Smell Hillary’s Fear   \n",
       "1       10294  Watch The Exact Moment Paul Ryan Committed Pol...   \n",
       "2        3608        Kerry to go to Paris in gesture of sympathy   \n",
       "3       10142  Bernie supporters on Twitter erupt in anger ag...   \n",
       "4         875   The Battle of New York: Why This Primary Matters   \n",
       "\n",
       "                                                text label  \\\n",
       "0  Daniel Greenfield, a Shillman Journalism Fello...  FAKE   \n",
       "1  Google Pinterest Digg Linkedin Reddit Stumbleu...  FAKE   \n",
       "2  U.S. Secretary of State John F. Kerry said Mon...  REAL   \n",
       "3  — Kaydee King (@KaydeeKing) November 9, 2016 T...  FAKE   \n",
       "4  It's primary day in New York and front-runners...  REAL   \n",
       "\n",
       "                                       title_vectors  \n",
       "0  [ 1.1533764e-02  4.2144405e-03  1.9692603e-02 ...  \n",
       "1  [ 0.11267698  0.02518966 -0.00212591  0.021095...  \n",
       "2  [ 0.04253004  0.04300297  0.01848392  0.048672...  \n",
       "3  [ 0.10801624  0.11583211  0.02874823  0.061732...  \n",
       "4  [ 1.69016439e-02  7.13498285e-03 -7.81233795e-...  "
      ]
     },
     "execution_count": 15,
     "metadata": {},
     "output_type": "execute_result"
    }
   ],
   "source": [
    "data.head()"
   ]
  },
  {
   "cell_type": "code",
   "execution_count": 3,
   "metadata": {
    "ExecuteTime": {
     "end_time": "2018-02-07T08:57:00.925840Z",
     "start_time": "2018-02-07T08:57:00.619411Z"
    }
   },
   "outputs": [
    {
     "data": {
      "text/html": [
       "<div>\n",
       "<style>\n",
       "    .dataframe thead tr:only-child th {\n",
       "        text-align: right;\n",
       "    }\n",
       "\n",
       "    .dataframe thead th {\n",
       "        text-align: left;\n",
       "    }\n",
       "\n",
       "    .dataframe tbody tr th {\n",
       "        vertical-align: top;\n",
       "    }\n",
       "</style>\n",
       "<table border=\"1\" class=\"dataframe\">\n",
       "  <thead>\n",
       "    <tr style=\"text-align: right;\">\n",
       "      <th></th>\n",
       "      <th>title</th>\n",
       "      <th>text</th>\n",
       "      <th>label</th>\n",
       "      <th>title_vectors</th>\n",
       "    </tr>\n",
       "  </thead>\n",
       "  <tbody>\n",
       "    <tr>\n",
       "      <th>0</th>\n",
       "      <td>You Can Smell Hillary’s Fear</td>\n",
       "      <td>Daniel Greenfield, a Shillman Journalism Fello...</td>\n",
       "      <td>FAKE</td>\n",
       "      <td>[ 1.1533764e-02  4.2144405e-03  1.9692603e-02 ...</td>\n",
       "    </tr>\n",
       "    <tr>\n",
       "      <th>1</th>\n",
       "      <td>Watch The Exact Moment Paul Ryan Committed Pol...</td>\n",
       "      <td>Google Pinterest Digg Linkedin Reddit Stumbleu...</td>\n",
       "      <td>FAKE</td>\n",
       "      <td>[ 0.11267698  0.02518966 -0.00212591  0.021095...</td>\n",
       "    </tr>\n",
       "    <tr>\n",
       "      <th>2</th>\n",
       "      <td>Kerry to go to Paris in gesture of sympathy</td>\n",
       "      <td>U.S. Secretary of State John F. Kerry said Mon...</td>\n",
       "      <td>REAL</td>\n",
       "      <td>[ 0.04253004  0.04300297  0.01848392  0.048672...</td>\n",
       "    </tr>\n",
       "    <tr>\n",
       "      <th>3</th>\n",
       "      <td>Bernie supporters on Twitter erupt in anger ag...</td>\n",
       "      <td>— Kaydee King (@KaydeeKing) November 9, 2016 T...</td>\n",
       "      <td>FAKE</td>\n",
       "      <td>[ 0.10801624  0.11583211  0.02874823  0.061732...</td>\n",
       "    </tr>\n",
       "    <tr>\n",
       "      <th>4</th>\n",
       "      <td>The Battle of New York: Why This Primary Matters</td>\n",
       "      <td>It's primary day in New York and front-runners...</td>\n",
       "      <td>REAL</td>\n",
       "      <td>[ 1.69016439e-02  7.13498285e-03 -7.81233795e-...</td>\n",
       "    </tr>\n",
       "  </tbody>\n",
       "</table>\n",
       "</div>"
      ],
      "text/plain": [
       "                                               title  \\\n",
       "0                       You Can Smell Hillary’s Fear   \n",
       "1  Watch The Exact Moment Paul Ryan Committed Pol...   \n",
       "2        Kerry to go to Paris in gesture of sympathy   \n",
       "3  Bernie supporters on Twitter erupt in anger ag...   \n",
       "4   The Battle of New York: Why This Primary Matters   \n",
       "\n",
       "                                                text label  \\\n",
       "0  Daniel Greenfield, a Shillman Journalism Fello...  FAKE   \n",
       "1  Google Pinterest Digg Linkedin Reddit Stumbleu...  FAKE   \n",
       "2  U.S. Secretary of State John F. Kerry said Mon...  REAL   \n",
       "3  — Kaydee King (@KaydeeKing) November 9, 2016 T...  FAKE   \n",
       "4  It's primary day in New York and front-runners...  REAL   \n",
       "\n",
       "                                       title_vectors  \n",
       "0  [ 1.1533764e-02  4.2144405e-03  1.9692603e-02 ...  \n",
       "1  [ 0.11267698  0.02518966 -0.00212591  0.021095...  \n",
       "2  [ 0.04253004  0.04300297  0.01848392  0.048672...  \n",
       "3  [ 0.10801624  0.11583211  0.02874823  0.061732...  \n",
       "4  [ 1.69016439e-02  7.13498285e-03 -7.81233795e-...  "
      ]
     },
     "execution_count": 3,
     "metadata": {},
     "output_type": "execute_result"
    }
   ],
   "source": [
    "data.drop('Unnamed: 0', inplace=True, axis=1)\n",
    "data.head()"
   ]
  },
  {
   "cell_type": "code",
   "execution_count": 25,
   "metadata": {
    "ExecuteTime": {
     "end_time": "2018-02-01T03:30:48.439938Z",
     "start_time": "2018-02-01T03:30:48.424428Z"
    },
    "scrolled": true
   },
   "outputs": [
    {
     "data": {
      "text/plain": [
       "0       FAKE\n",
       "1       FAKE\n",
       "2       REAL\n",
       "3       FAKE\n",
       "4       REAL\n",
       "5       FAKE\n",
       "6       FAKE\n",
       "7       REAL\n",
       "8       REAL\n",
       "9       REAL\n",
       "10      REAL\n",
       "11      REAL\n",
       "12      FAKE\n",
       "13      FAKE\n",
       "14      REAL\n",
       "15      REAL\n",
       "16      FAKE\n",
       "17      FAKE\n",
       "18      REAL\n",
       "19      REAL\n",
       "20      REAL\n",
       "21      FAKE\n",
       "22      REAL\n",
       "23      REAL\n",
       "24      FAKE\n",
       "25      REAL\n",
       "26      REAL\n",
       "27      REAL\n",
       "28      REAL\n",
       "29      FAKE\n",
       "        ... \n",
       "6305    FAKE\n",
       "6306    FAKE\n",
       "6307    FAKE\n",
       "6308    FAKE\n",
       "6309    REAL\n",
       "6310    REAL\n",
       "6311    REAL\n",
       "6312    FAKE\n",
       "6313    FAKE\n",
       "6314    FAKE\n",
       "6315    REAL\n",
       "6316    REAL\n",
       "6317    FAKE\n",
       "6318    FAKE\n",
       "6319    REAL\n",
       "6320    FAKE\n",
       "6321    FAKE\n",
       "6322    FAKE\n",
       "6323    REAL\n",
       "6324    REAL\n",
       "6325    FAKE\n",
       "6326    FAKE\n",
       "6327    REAL\n",
       "6328    FAKE\n",
       "6329    FAKE\n",
       "6330    REAL\n",
       "6331    FAKE\n",
       "6332    FAKE\n",
       "6333    REAL\n",
       "6334    REAL\n",
       "Name: label, Length: 6335, dtype: object"
      ]
     },
     "execution_count": 25,
     "metadata": {},
     "output_type": "execute_result"
    }
   ],
   "source": [
    "data['label']"
   ]
  },
  {
   "cell_type": "markdown",
   "metadata": {},
   "source": [
    "So there is only two labels, and we can replace REAL with 0, and FAKE with 1"
   ]
  },
  {
   "cell_type": "code",
   "execution_count": 4,
   "metadata": {
    "ExecuteTime": {
     "end_time": "2018-02-07T08:57:03.597174Z",
     "start_time": "2018-02-07T08:57:03.420534Z"
    },
    "scrolled": true
   },
   "outputs": [
    {
     "data": {
      "text/plain": [
       "0       1\n",
       "1       1\n",
       "2       0\n",
       "3       1\n",
       "4       0\n",
       "5       1\n",
       "6       1\n",
       "7       0\n",
       "8       0\n",
       "9       0\n",
       "10      0\n",
       "11      0\n",
       "12      1\n",
       "13      1\n",
       "14      0\n",
       "15      0\n",
       "16      1\n",
       "17      1\n",
       "18      0\n",
       "19      0\n",
       "20      0\n",
       "21      1\n",
       "22      0\n",
       "23      0\n",
       "24      1\n",
       "25      0\n",
       "26      0\n",
       "27      0\n",
       "28      0\n",
       "29      1\n",
       "       ..\n",
       "6305    1\n",
       "6306    1\n",
       "6307    1\n",
       "6308    1\n",
       "6309    0\n",
       "6310    0\n",
       "6311    0\n",
       "6312    1\n",
       "6313    1\n",
       "6314    1\n",
       "6315    0\n",
       "6316    0\n",
       "6317    1\n",
       "6318    1\n",
       "6319    0\n",
       "6320    1\n",
       "6321    1\n",
       "6322    1\n",
       "6323    0\n",
       "6324    0\n",
       "6325    1\n",
       "6326    1\n",
       "6327    0\n",
       "6328    1\n",
       "6329    1\n",
       "6330    0\n",
       "6331    1\n",
       "6332    1\n",
       "6333    0\n",
       "6334    0\n",
       "Name: label, Length: 6335, dtype: int64"
      ]
     },
     "execution_count": 4,
     "metadata": {},
     "output_type": "execute_result"
    }
   ],
   "source": [
    "data['label'] = data['label'].replace(['FAKE', 'REAL'], [1, 0])\n",
    "data['label']"
   ]
  },
  {
   "cell_type": "code",
   "execution_count": 27,
   "metadata": {
    "ExecuteTime": {
     "end_time": "2018-02-01T03:31:23.174037Z",
     "start_time": "2018-02-01T03:31:22.631535Z"
    }
   },
   "outputs": [
    {
     "data": {
      "text/plain": [
       "<matplotlib.axes._subplots.AxesSubplot at 0x265255d9400>"
      ]
     },
     "execution_count": 27,
     "metadata": {},
     "output_type": "execute_result"
    },
    {
     "data": {
      "image/png": "[encoded data removed]",
      "text/plain": [
       "<matplotlib.figure.Figure at 0x265254ae2e8>"
      ]
     },
     "metadata": {},
     "output_type": "display_data"
    }
   ],
   "source": [
    "data['label'].plot('hist')"
   ]
  },
  {
   "cell_type": "markdown",
   "metadata": {},
   "source": [
    "It's a balanced dataset"
   ]
  },
  {
   "cell_type": "markdown",
   "metadata": {},
   "source": [
    "## 2. Use sum of TF-IDF weighted WordVecs to represent a document"
   ]
  },
  {
   "cell_type": "markdown",
   "metadata": {},
   "source": [
    "![](Algo_explanation/1.png)"
   ]
  },
  {
   "cell_type": "markdown",
   "metadata": {},
   "source": [
    "### 2.1 Data Preprocessing"
   ]
  },
  {
   "cell_type": "code",
   "execution_count": null,
   "metadata": {
    "ExecuteTime": {
     "end_time": "2018-02-07T08:57:47.501696Z",
     "start_time": "2018-02-07T08:57:08.829043Z"
    },
    "collapsed": true
   },
   "outputs": [],
   "source": [
    "from nltk.corpus import stopwords\n",
    "import nltk\n",
    "import re\n",
    "\n",
    "# remove puctionations\n",
    "pat = re.compile('[0-9a-zA-Z ]')\n",
    "\n",
    "stop_words = stopwords.words('english')\n",
    "\n",
    "# Clear punctuation\n",
    "cleaner = lambda string: ''.join([char.lower() for char in string if re.match(pat, char) is not None])\n",
    "# Tokenization\n",
    "tokenizer = lambda str_list: [nltk.word_tokenize(cleaner(string)) for string in str_list]\n",
    "# Filter out stopwords\n",
    "stopwords_cleaner = lambda x: [[word for word in word_list if word not in stop_words] for word_list in x]\n",
    "\n",
    "tokenized_title = tokenizer(data.title)\n",
    "tokenized_text = tokenizer(data.text)\n",
    "cleaned_title = stopwords_cleaner(tokenized_title)\n",
    "cleaned_text = stopwords_cleaner(tokenized_text)"
   ]
  },
  {
   "cell_type": "code",
   "execution_count": 7,
   "metadata": {
    "ExecuteTime": {
     "end_time": "2018-02-07T08:58:37.371754Z",
     "start_time": "2018-02-07T08:58:36.221218Z"
    },
    "collapsed": true
   },
   "outputs": [],
   "source": [
    "import json\n",
    "## Save for reuse\n",
    "# cleaned_df = {\n",
    "#     'title': cleaned_title,\n",
    "#     'text': cleaned_text\n",
    "# }\n",
    "with open('./model/cleaned_df.json', 'r', encoding='utf8') as f:\n",
    "    cleaned_df = json.loads(f.read())"
   ]
  },
  {
   "cell_type": "code",
   "execution_count": 8,
   "metadata": {
    "ExecuteTime": {
     "end_time": "2018-02-07T08:58:40.221349Z",
     "start_time": "2018-02-07T08:58:40.191826Z"
    }
   },
   "outputs": [
    {
     "data": {
      "text/html": [
       "<div>\n",
       "<style>\n",
       "    .dataframe thead tr:only-child th {\n",
       "        text-align: right;\n",
       "    }\n",
       "\n",
       "    .dataframe thead th {\n",
       "        text-align: left;\n",
       "    }\n",
       "\n",
       "    .dataframe tbody tr th {\n",
       "        vertical-align: top;\n",
       "    }\n",
       "</style>\n",
       "<table border=\"1\" class=\"dataframe\">\n",
       "  <thead>\n",
       "    <tr style=\"text-align: right;\">\n",
       "      <th></th>\n",
       "      <th>text</th>\n",
       "      <th>title</th>\n",
       "    </tr>\n",
       "  </thead>\n",
       "  <tbody>\n",
       "    <tr>\n",
       "      <th>0</th>\n",
       "      <td>[daniel, greenfield, shillman, journalism, fel...</td>\n",
       "      <td>[smell, hillarys, fear]</td>\n",
       "    </tr>\n",
       "    <tr>\n",
       "      <th>1</th>\n",
       "      <td>[google, pinterest, digg, linkedin, reddit, st...</td>\n",
       "      <td>[watch, exact, moment, paul, ryan, committed, ...</td>\n",
       "    </tr>\n",
       "    <tr>\n",
       "      <th>2</th>\n",
       "      <td>[us, secretary, state, john, f, kerry, said, m...</td>\n",
       "      <td>[kerry, go, paris, gesture, sympathy]</td>\n",
       "    </tr>\n",
       "    <tr>\n",
       "      <th>3</th>\n",
       "      <td>[kaydee, king, kaydeeking, november, 9, 2016, ...</td>\n",
       "      <td>[bernie, supporters, twitter, erupt, anger, dn...</td>\n",
       "    </tr>\n",
       "    <tr>\n",
       "      <th>4</th>\n",
       "      <td>[primary, day, new, york, frontrunners, hillar...</td>\n",
       "      <td>[battle, new, york, primary, matters]</td>\n",
       "    </tr>\n",
       "  </tbody>\n",
       "</table>\n",
       "</div>"
      ],
      "text/plain": [
       "                                                text  \\\n",
       "0  [daniel, greenfield, shillman, journalism, fel...   \n",
       "1  [google, pinterest, digg, linkedin, reddit, st...   \n",
       "2  [us, secretary, state, john, f, kerry, said, m...   \n",
       "3  [kaydee, king, kaydeeking, november, 9, 2016, ...   \n",
       "4  [primary, day, new, york, frontrunners, hillar...   \n",
       "\n",
       "                                               title  \n",
       "0                            [smell, hillarys, fear]  \n",
       "1  [watch, exact, moment, paul, ryan, committed, ...  \n",
       "2              [kerry, go, paris, gesture, sympathy]  \n",
       "3  [bernie, supporters, twitter, erupt, anger, dn...  \n",
       "4              [battle, new, york, primary, matters]  "
      ]
     },
     "execution_count": 8,
     "metadata": {},
     "output_type": "execute_result"
    }
   ],
   "source": [
    "cleaned_df = pd.DataFrame(cleaned_df)\n",
    "cleaned_df.head()"
   ]
  },
  {
   "cell_type": "markdown",
   "metadata": {},
   "source": [
    "### 2.2 Train WordVecs for titles and texts, respectively"
   ]
  },
  {
   "cell_type": "code",
   "execution_count": 9,
   "metadata": {
    "ExecuteTime": {
     "end_time": "2018-02-07T08:58:49.348328Z",
     "start_time": "2018-02-07T08:58:48.812819Z"
    }
   },
   "outputs": [
    {
     "name": "stderr",
     "output_type": "stream",
     "text": [
      "D:\\Anaconda3_501\\lib\\site-packages\\gensim\\utils.py:860: UserWarning: detected Windows; aliasing chunkize to chunkize_serial\n",
      "  warnings.warn(\"detected Windows; aliasing chunkize to chunkize_serial\")\n"
     ]
    }
   ],
   "source": [
    "from gensim import models\n",
    "seed = 10"
   ]
  },
  {
   "cell_type": "markdown",
   "metadata": {},
   "source": [
    "#### 1) Titles"
   ]
  },
  {
   "cell_type": "code",
   "execution_count": 10,
   "metadata": {
    "ExecuteTime": {
     "end_time": "2018-02-07T08:58:52.136221Z",
     "start_time": "2018-02-07T08:58:51.328256Z"
    },
    "collapsed": true
   },
   "outputs": [],
   "source": [
    "wv_title = models.Word2Vec(cleaned_df['title'], size=100, window=5, min_count=1, seed=seed)"
   ]
  },
  {
   "cell_type": "code",
   "execution_count": 7,
   "metadata": {
    "ExecuteTime": {
     "end_time": "2018-02-02T13:45:12.630945Z",
     "start_time": "2018-02-02T13:45:12.370946Z"
    }
   },
   "outputs": [
    {
     "name": "stderr",
     "output_type": "stream",
     "text": [
      "D:\\Anaconda3_501\\lib\\site-packages\\ipykernel_launcher.py:1: DeprecationWarning: Call to deprecated `most_similar` (Method will be removed in 4.0.0, use self.wv.most_similar() instead).\n",
      "  \"\"\"Entry point for launching an IPython kernel.\n"
     ]
    },
    {
     "data": {
      "text/plain": [
       "[('people', 0.8612103462219238),\n",
       " ('obama', 0.8563690185546875),\n",
       " ('america', 0.8563374280929565),\n",
       " ('could', 0.8544567823410034),\n",
       " ('federal', 0.8537775278091431),\n",
       " ('debate', 0.8530303239822388),\n",
       " ('says', 0.8529757261276245),\n",
       " ('us', 0.8528727293014526),\n",
       " ('clinton', 0.8524423241615295),\n",
       " ('party', 0.8523204922676086)]"
      ]
     },
     "execution_count": 7,
     "metadata": {},
     "output_type": "execute_result"
    }
   ],
   "source": [
    "wv_title.most_similar(positive=['bad'])"
   ]
  },
  {
   "cell_type": "markdown",
   "metadata": {},
   "source": [
    "#### 2) Texts"
   ]
  },
  {
   "cell_type": "code",
   "execution_count": 11,
   "metadata": {
    "ExecuteTime": {
     "end_time": "2018-02-07T08:59:34.964485Z",
     "start_time": "2018-02-07T08:58:59.561936Z"
    },
    "collapsed": true
   },
   "outputs": [],
   "source": [
    "wv_text = models.Word2Vec(cleaned_df['text'], size=200, window=8, min_count=1, seed=seed)"
   ]
  },
  {
   "cell_type": "code",
   "execution_count": 12,
   "metadata": {
    "ExecuteTime": {
     "end_time": "2018-02-07T08:59:38.560373Z",
     "start_time": "2018-02-07T08:59:37.885983Z"
    }
   },
   "outputs": [
    {
     "name": "stderr",
     "output_type": "stream",
     "text": [
      "D:\\Anaconda3_501\\lib\\site-packages\\ipykernel_launcher.py:1: DeprecationWarning: Call to deprecated `most_similar` (Method will be removed in 4.0.0, use self.wv.most_similar() instead).\n",
      "  \"\"\"Entry point for launching an IPython kernel.\n"
     ]
    },
    {
     "data": {
      "text/plain": [
       "[('good', 0.8793075084686279),\n",
       " ('really', 0.8541451096534729),\n",
       " ('obviously', 0.8468286991119385),\n",
       " ('nobody', 0.8451259732246399),\n",
       " ('yes', 0.8438848853111267),\n",
       " ('exactly', 0.84083092212677),\n",
       " ('stupid', 0.8322643637657166),\n",
       " ('cares', 0.827016294002533),\n",
       " ('pretty', 0.8252819776535034),\n",
       " ('happy', 0.8228706121444702)]"
      ]
     },
     "execution_count": 12,
     "metadata": {},
     "output_type": "execute_result"
    }
   ],
   "source": [
    "wv_text.most_similar(positive=['bad'])"
   ]
  },
  {
   "cell_type": "markdown",
   "metadata": {},
   "source": [
    "#### 3) Use MDS to map the data to 2-dim, which can keep the origional distance amount the data points"
   ]
  },
  {
   "cell_type": "code",
   "execution_count": 13,
   "metadata": {
    "ExecuteTime": {
     "end_time": "2018-02-07T08:59:49.871504Z",
     "start_time": "2018-02-07T08:59:49.217227Z"
    },
    "collapsed": true
   },
   "outputs": [],
   "source": [
    "from sklearn.manifold import MDS\n",
    "np.random.seed(seed)"
   ]
  },
  {
   "cell_type": "code",
   "execution_count": 14,
   "metadata": {
    "ExecuteTime": {
     "end_time": "2018-02-07T08:59:51.014987Z",
     "start_time": "2018-02-07T08:59:51.005980Z"
    },
    "collapsed": true
   },
   "outputs": [],
   "source": [
    "title_tokens = []\n",
    "for words in cleaned_df['title']:\n",
    "    title_tokens += words"
   ]
  },
  {
   "cell_type": "code",
   "execution_count": 15,
   "metadata": {
    "ExecuteTime": {
     "end_time": "2018-02-07T08:59:52.970198Z",
     "start_time": "2018-02-07T08:59:52.446345Z"
    },
    "collapsed": true
   },
   "outputs": [],
   "source": [
    "title_vecs = np.array([wv_title.wv[word] for word in title_tokens])\n",
    "## Pick 100 to visualize\n",
    "rand_index = np.random.randint(0, title_vecs.shape[0], 50)\n",
    "mds = MDS(n_components=2).fit_transform(title_vecs[rand_index, :])"
   ]
  },
  {
   "cell_type": "code",
   "execution_count": 16,
   "metadata": {
    "ExecuteTime": {
     "end_time": "2018-02-07T08:59:54.217811Z",
     "start_time": "2018-02-07T08:59:53.198887Z"
    }
   },
   "outputs": [
    {
     "data": {
      "image/png": "[encoded data removed]",
      "text/plain": [
       "<matplotlib.figure.Figure at 0x1b400407780>"
      ]
     },
     "metadata": {},
     "output_type": "display_data"
    }
   ],
   "source": [
    "fig = plt.figure(figsize=(14, 10))\n",
    "plt.scatter(mds[:, 0], mds[:, 1], alpha=0.5)\n",
    "for i in range(mds.shape[0]):\n",
    "    plt.annotate(title_tokens[rand_index[i]], (mds[i, 0], mds[i, 1]))"
   ]
  },
  {
   "cell_type": "code",
   "execution_count": 17,
   "metadata": {
    "ExecuteTime": {
     "end_time": "2018-02-07T09:00:04.506835Z",
     "start_time": "2018-02-07T09:00:04.325175Z"
    },
    "collapsed": true
   },
   "outputs": [],
   "source": [
    "text_tokens = []\n",
    "for words in cleaned_df['text']:\n",
    "    text_tokens += words"
   ]
  },
  {
   "cell_type": "code",
   "execution_count": 18,
   "metadata": {
    "ExecuteTime": {
     "end_time": "2018-02-07T09:00:15.802571Z",
     "start_time": "2018-02-07T09:00:04.969436Z"
    },
    "collapsed": true
   },
   "outputs": [],
   "source": [
    "text_vecs = np.array([wv_text.wv[word] for word in text_tokens])\n",
    "## Pick 100 to visualize\n",
    "rand_index = np.random.randint(0, text_vecs.shape[0], 50)\n",
    "mds = MDS(n_components=2).fit_transform(text_vecs[rand_index, :])"
   ]
  },
  {
   "cell_type": "code",
   "execution_count": 19,
   "metadata": {
    "ExecuteTime": {
     "end_time": "2018-02-07T09:00:16.334861Z",
     "start_time": "2018-02-07T09:00:15.808580Z"
    }
   },
   "outputs": [
    {
     "data": {
      "image/png": "[encoded data removed]",
      "text/plain": [
       "<matplotlib.figure.Figure at 0x1b40082a390>"
      ]
     },
     "metadata": {},
     "output_type": "display_data"
    }
   ],
   "source": [
    "fig = plt.figure(figsize=(14, 10))\n",
    "plt.scatter(mds[:, 0], mds[:, 1], alpha=0.5)\n",
    "for i in range(mds.shape[0]):\n",
    "    plt.annotate(text_tokens[rand_index[i]], (mds[i, 0], mds[i, 1]))"
   ]
  },
  {
   "cell_type": "markdown",
   "metadata": {},
   "source": [
    "### 2.3 TF-IDF to get weights of each word"
   ]
  },
  {
   "cell_type": "code",
   "execution_count": 20,
   "metadata": {
    "ExecuteTime": {
     "end_time": "2018-02-07T09:00:20.264670Z",
     "start_time": "2018-02-07T09:00:20.258648Z"
    },
    "collapsed": true
   },
   "outputs": [],
   "source": [
    "from sklearn.feature_extraction.text import CountVectorizer, TfidfTransformer"
   ]
  },
  {
   "cell_type": "code",
   "execution_count": 21,
   "metadata": {
    "ExecuteTime": {
     "end_time": "2018-02-07T09:01:23.395738Z",
     "start_time": "2018-02-07T09:00:21.228484Z"
    },
    "collapsed": true
   },
   "outputs": [],
   "source": [
    "## Initialize TF-IDF models\n",
    "title_vectorizer = CountVectorizer()\n",
    "title_transformer = TfidfTransformer()\n",
    "text_vectorizer = CountVectorizer()\n",
    "text_transformer = TfidfTransformer()\n",
    "tfidf_mat_title = title_transformer.fit_transform(title_vectorizer.fit_transform(\n",
    "                [' '.join(words) for words in cleaned_df['title']]))\n",
    "tfidf_mat_text = text_transformer.fit_transform(text_vectorizer.fit_transform(\n",
    "                [' '.join(words) for words in cleaned_df['text']]))\n",
    "\n",
    "## Map each word to its weight (TF-IDF value)\n",
    "title_tokens = title_vectorizer.get_feature_names()\n",
    "text_tokens = text_vectorizer.get_feature_names()\n",
    "title_tfidf_score = []\n",
    "text_tfidf_score = []\n",
    "for i in range(len(cleaned_df['title'])):\n",
    "    feature_index = tfidf_mat_title[i, :].nonzero()[1]\n",
    "    tfidf_scores = dict(zip(feature_index, [tfidf_mat_title[i, x] for x in feature_index]))\n",
    "    title_tfidf_score.append({title_tokens[key]: val for key, val in tfidf_scores.items()})\n",
    "for i in range(len(cleaned_df['text'])):\n",
    "    feature_index = tfidf_mat_text[i, :].nonzero()[1]\n",
    "    tfidf_scores = dict(zip(feature_index, [tfidf_mat_text[i, x] for x in feature_index]))\n",
    "    text_tfidf_score.append({text_tokens[key]: val for key, val in tfidf_scores.items()})"
   ]
  },
  {
   "cell_type": "markdown",
   "metadata": {
    "ExecuteTime": {
     "end_time": "2018-02-02T15:24:17.289824Z",
     "start_time": "2018-02-02T15:24:17.281817Z"
    }
   },
   "source": [
    "### 2.4 Construct the dataset"
   ]
  },
  {
   "cell_type": "code",
   "execution_count": 23,
   "metadata": {
    "ExecuteTime": {
     "end_time": "2018-02-07T09:01:30.080797Z",
     "start_time": "2018-02-07T09:01:30.074790Z"
    },
    "collapsed": true
   },
   "outputs": [],
   "source": [
    "import numpy as np\n",
    "X = np.zeros((1, 300))\n",
    "y = np.array(data['label'])"
   ]
  },
  {
   "cell_type": "code",
   "execution_count": 2,
   "metadata": {
    "ExecuteTime": {
     "end_time": "2018-02-07T09:09:45.736636Z",
     "start_time": "2018-02-07T09:09:39.239967Z"
    }
   },
   "outputs": [
    {
     "name": "stderr",
     "output_type": "stream",
     "text": [
      "D:\\Anaconda3_501\\lib\\site-packages\\gensim\\utils.py:860: UserWarning: detected Windows; aliasing chunkize to chunkize_serial\n",
      "  warnings.warn(\"detected Windows; aliasing chunkize to chunkize_serial\")\n"
     ]
    }
   ],
   "source": [
    "from gensim import models\n",
    "with open('./model/title_tfidf_score.json', 'r', encoding='utf8') as f:\n",
    "    title_tfidf_score = json.loads(f.read())\n",
    "\n",
    "with open('./model/text_tfidf_score.json', 'r', encoding='utf8') as f:\n",
    "    text_tfidf_score = json.loads(f.read())"
   ]
  },
  {
   "cell_type": "code",
   "execution_count": null,
   "metadata": {
    "ExecuteTime": {
     "start_time": "2018-02-07T09:01:38.458Z"
    }
   },
   "outputs": [
    {
     "name": "stderr",
     "output_type": "stream",
     "text": [
      "D:\\Anaconda3_501\\lib\\site-packages\\ipykernel_launcher.py:4: DeprecationWarning: Call to deprecated `__getitem__` (Method will be removed in 4.0.0, use self.wv.__getitem__() instead).\n",
      "  after removing the cwd from sys.path.\n",
      "D:\\Anaconda3_501\\lib\\site-packages\\ipykernel_launcher.py:6: DeprecationWarning: Call to deprecated `__getitem__` (Method will be removed in 4.0.0, use self.wv.__getitem__() instead).\n",
      "  \n"
     ]
    }
   ],
   "source": [
    "word_weighted_vec = lambda word, word_weight, wv: word_weight[word] * wv[word]\n",
    "for i in range(len(cleaned_df['title'])):\n",
    "    words, tfidf = list(title_tfidf_score[i].keys()), list(title_tfidf_score[i].values())\n",
    "    title_vec = np.multiply(np.array(tfidf).reshape(-1, 1), np.array([wv_title[word] for word in words]))\n",
    "    words, tfidf = list(text_tfidf_score[i].keys()), list(text_tfidf_score[i].values())\n",
    "    text_vec = np.multiply(np.array(tfidf).reshape(-1, 1) , np.array([wv_text[word] for word in words]))\n",
    "    if text_vec.shape[1] == 0:\n",
    "        text_vec = np.zeros((1, 200))\n",
    "    if title_vec.shape[1] == 0:\n",
    "        title_vec = np.zeros((1, 100))\n",
    "    doc_vec = np.column_stack((np.sum(title_vec, axis=0, keepdims=True),\n",
    "                               np.sum(text_vec, axis=0, keepdims=True)))\n",
    "    X = np.row_stack((X, doc_vec))\n",
    "X = X[1:, :]"
   ]
  },
  {
   "cell_type": "code",
   "execution_count": null,
   "metadata": {
    "ExecuteTime": {
     "start_time": "2018-02-07T09:01:49.199Z"
    },
    "collapsed": true
   },
   "outputs": [],
   "source": [
    "X.shape"
   ]
  },
  {
   "cell_type": "code",
   "execution_count": null,
   "metadata": {
    "collapsed": true
   },
   "outputs": [],
   "source": [
    "with open('./model/X.json', 'w', encoding='utf8') as f:\n",
    "    f.write(json.dumps(X))"
   ]
  },
  {
   "cell_type": "code",
   "execution_count": 59,
   "metadata": {
    "ExecuteTime": {
     "end_time": "2018-02-03T02:30:10.880333Z",
     "start_time": "2018-02-03T02:30:10.769535Z"
    },
    "collapsed": true
   },
   "outputs": [],
   "source": [
    "## Split into train, test and validation set\n",
    "from sklearn.model_selection import train_test_split\n",
    "seed = 3\n",
    "## train : test : validation = 7 : 2 : 1\n",
    "X_train, X_test, y_train, y_test = train_test_split(X, y, test_size=0.3, random_state=seed)\n",
    "X_test, X_val, y_test, y_val = train_test_split(X_test, y_test, test_size=0.33, random_state=seed)"
   ]
  },
  {
   "cell_type": "markdown",
   "metadata": {
    "ExecuteTime": {
     "end_time": "2018-02-03T02:29:12.522214Z",
     "start_time": "2018-02-03T02:29:12.513208Z"
    },
    "heading_collapsed": true
   },
   "source": [
    "### 2.5 Use three kinds of Classifiers"
   ]
  },
  {
   "cell_type": "code",
   "execution_count": 77,
   "metadata": {
    "ExecuteTime": {
     "end_time": "2018-02-03T08:10:49.717273Z",
     "start_time": "2018-02-03T08:10:49.703262Z"
    },
    "collapsed": true,
    "hidden": true
   },
   "outputs": [],
   "source": [
    "def classify(X_train, y_train, X_test, models):\n",
    "    for model in models:\n",
    "        model.fit(X_train, y_train)\n",
    "        y_predict = model.predict(X_test).reshape(-1, 1)\n",
    "        print('Model: {:>25} | Accuracy: {:.2f} | Precision: {:.2f} | Recall: {:.2f} | F1: {:.2f}'.format(\n",
    "                type(model).__name__,\n",
    "                metrics.accuracy_score(y_predict, y_test),\n",
    "                metrics.precision_score(y_predict, y_test),\n",
    "                metrics.recall_score(y_predict, y_test),\n",
    "                metrics.f1_score(y_predict, y_test)\n",
    "        ))"
   ]
  },
  {
   "cell_type": "code",
   "execution_count": 106,
   "metadata": {
    "ExecuteTime": {
     "end_time": "2018-02-03T04:50:41.800851Z",
     "start_time": "2018-02-03T04:50:34.006650Z"
    },
    "hidden": true
   },
   "outputs": [
    {
     "name": "stdout",
     "output_type": "stream",
     "text": [
      "Model:                       SVC | Accuracy: 0.90 | Precision: 0.89 | Recall: 0.91 | F1: 0.90\n",
      "Model:             MLPClassifier | Accuracy: 0.89 | Precision: 0.95 | Recall: 0.84 | F1: 0.89\n",
      "Model:    RandomForestClassifier | Accuracy: 0.88 | Precision: 0.84 | Recall: 0.91 | F1: 0.87\n"
     ]
    }
   ],
   "source": [
    "from sklearn.svm import SVC\n",
    "from sklearn.neural_network import MLPClassifier\n",
    "from sklearn.ensemble import RandomForestClassifier\n",
    "\n",
    "svc = SVC()\n",
    "mlp = MLPClassifier()\n",
    "rfc = RandomForestClassifier()\n",
    "classify(X_train, y_train, X_test, [svc, mlp, rfc])"
   ]
  },
  {
   "cell_type": "markdown",
   "metadata": {
    "collapsed": true
   },
   "source": [
    "## 3. Doc2Vec"
   ]
  },
  {
   "cell_type": "code",
   "execution_count": 3,
   "metadata": {
    "ExecuteTime": {
     "end_time": "2018-02-07T09:09:56.273620Z",
     "start_time": "2018-02-07T09:09:56.256627Z"
    },
    "collapsed": true
   },
   "outputs": [],
   "source": [
    "from gensim.models.doc2vec import LabeledSentence\n",
    "class LabeledTitle:\n",
    "    def __init__(self, wordsLists):\n",
    "        self.wordsLists = wordsLists\n",
    "    def __iter__(self):\n",
    "        for i, words in enumerate(self.wordsLists):\n",
    "            yield LabeledSentence(words=words, tags=[i])\n",
    "            \n",
    "class LabeledText:\n",
    "    def __init__(self, wordsLists):\n",
    "        self.wordsLists = wordsLists\n",
    "    def __iter__(self):\n",
    "        for i, words in enumerate(self.wordsLists):\n",
    "            yield LabeledSentence(words=words, tags=[i])"
   ]
  },
  {
   "cell_type": "code",
   "execution_count": 4,
   "metadata": {
    "ExecuteTime": {
     "end_time": "2018-02-07T09:09:58.573027Z",
     "start_time": "2018-02-07T09:09:58.327327Z"
    }
   },
   "outputs": [
    {
     "ename": "NameError",
     "evalue": "name 'title_sents' is not defined",
     "output_type": "error",
     "traceback": [
      "\u001b[1;31m---------------------------------------------------------------------------\u001b[0m",
      "\u001b[1;31mNameError\u001b[0m                                 Traceback (most recent call last)",
      "\u001b[1;32m<ipython-input-4-03822f78b6cd>\u001b[0m in \u001b[0;36m<module>\u001b[1;34m()\u001b[0m\n\u001b[0;32m      1\u001b[0m \u001b[1;32mfrom\u001b[0m \u001b[0mgensim\u001b[0m\u001b[1;33m.\u001b[0m\u001b[0mmodels\u001b[0m \u001b[1;32mimport\u001b[0m \u001b[0mDoc2Vec\u001b[0m\u001b[1;33m\u001b[0m\u001b[0m\n\u001b[1;32m----> 2\u001b[1;33m \u001b[0mdv_title\u001b[0m \u001b[1;33m=\u001b[0m \u001b[0mDoc2Vec\u001b[0m\u001b[1;33m(\u001b[0m\u001b[0mtitle_sents\u001b[0m\u001b[1;33m,\u001b[0m \u001b[0malpha\u001b[0m\u001b[1;33m=\u001b[0m\u001b[1;36m0.025\u001b[0m\u001b[1;33m,\u001b[0m \u001b[0mmin_alpha\u001b[0m\u001b[1;33m=\u001b[0m\u001b[1;36m0.025\u001b[0m\u001b[1;33m)\u001b[0m\u001b[1;33m\u001b[0m\u001b[0m\n\u001b[0m\u001b[0;32m      3\u001b[0m \u001b[0mdv_text\u001b[0m \u001b[1;33m=\u001b[0m \u001b[0mDoc2Vec\u001b[0m\u001b[1;33m(\u001b[0m\u001b[0malpha\u001b[0m\u001b[1;33m=\u001b[0m\u001b[1;36m0.025\u001b[0m\u001b[1;33m,\u001b[0m \u001b[0mmin_alpha\u001b[0m\u001b[1;33m=\u001b[0m\u001b[1;36m0.025\u001b[0m\u001b[1;33m)\u001b[0m\u001b[1;33m\u001b[0m\u001b[0m\n",
      "\u001b[1;31mNameError\u001b[0m: name 'title_sents' is not defined"
     ]
    }
   ],
   "source": [
    "from gensim.models import Doc2Vec\n",
    "dv_title = Doc2Vec(title_sents, alpha=0.025, min_alpha=0.025)\n",
    "dv_text = Doc2Vec(alpha=0.025, min_alpha=0.025)"
   ]
  },
  {
   "cell_type": "code",
   "execution_count": 7,
   "metadata": {
    "ExecuteTime": {
     "end_time": "2018-02-07T09:11:14.384389Z",
     "start_time": "2018-02-07T09:11:14.377216Z"
    }
   },
   "outputs": [],
   "source": [
    "title_sents = LabeledTitle(cleaned_df['title'])\n",
    "text_sents = LabeledText(cleaned_df['text'])\n",
    "max_iter = 50"
   ]
  },
  {
   "cell_type": "code",
   "execution_count": 9,
   "metadata": {
    "ExecuteTime": {
     "end_time": "2018-02-07T09:11:36.743132Z",
     "start_time": "2018-02-07T09:11:29.559531Z"
    },
    "scrolled": true
   },
   "outputs": [
    {
     "name": "stderr",
     "output_type": "stream",
     "text": [
      "D:\\Anaconda3_501\\lib\\site-packages\\ipykernel_launcher.py:7: DeprecationWarning: Call to deprecated `LabeledSentence` (Class will be removed in 4.0.0, use TaggedDocument instead).\n",
      "  import sys\n"
     ]
    },
    {
     "ename": "KeyboardInterrupt",
     "evalue": "",
     "output_type": "error",
     "traceback": [
      "\u001b[1;31m---------------------------------------------------------------------------\u001b[0m",
      "\u001b[1;31mKeyboardInterrupt\u001b[0m                         Traceback (most recent call last)",
      "\u001b[1;32m<ipython-input-9-be7fb632b556>\u001b[0m in \u001b[0;36m<module>\u001b[1;34m()\u001b[0m\n\u001b[0;32m      7\u001b[0m \u001b[1;33m\u001b[0m\u001b[0m\n\u001b[0;32m      8\u001b[0m \u001b[1;32mfor\u001b[0m \u001b[0mepoch\u001b[0m \u001b[1;32min\u001b[0m \u001b[0mrange\u001b[0m\u001b[1;33m(\u001b[0m\u001b[1;36m5\u001b[0m\u001b[1;33m)\u001b[0m\u001b[1;33m:\u001b[0m\u001b[1;33m\u001b[0m\u001b[0m\n\u001b[1;32m----> 9\u001b[1;33m     \u001b[0mdv_title\u001b[0m\u001b[1;33m.\u001b[0m\u001b[0mtrain\u001b[0m\u001b[1;33m(\u001b[0m\u001b[0mit_title\u001b[0m\u001b[1;33m,\u001b[0m \u001b[0mtotal_examples\u001b[0m\u001b[1;33m=\u001b[0m\u001b[0mdv_title\u001b[0m\u001b[1;33m.\u001b[0m\u001b[0mcorpus_count\u001b[0m\u001b[1;33m,\u001b[0m \u001b[0mepochs\u001b[0m\u001b[1;33m=\u001b[0m\u001b[0mdv_title\u001b[0m\u001b[1;33m.\u001b[0m\u001b[0miter\u001b[0m\u001b[1;33m)\u001b[0m\u001b[1;33m\u001b[0m\u001b[0m\n\u001b[0m\u001b[0;32m     10\u001b[0m     \u001b[0mdv_title\u001b[0m\u001b[1;33m.\u001b[0m\u001b[0malpha\u001b[0m \u001b[1;33m-=\u001b[0m \u001b[1;36m0.002\u001b[0m            \u001b[1;31m# decrease the learning rate\u001b[0m\u001b[1;33m\u001b[0m\u001b[0m\n\u001b[0;32m     11\u001b[0m     \u001b[0mdv_title\u001b[0m\u001b[1;33m.\u001b[0m\u001b[0mmin_alpha\u001b[0m \u001b[1;33m=\u001b[0m \u001b[0mdv_title\u001b[0m\u001b[1;33m.\u001b[0m\u001b[0malpha\u001b[0m       \u001b[1;31m# fix the learning rate, no deca\u001b[0m\u001b[1;33m\u001b[0m\u001b[0m\n",
      "\u001b[1;32mD:\\Anaconda3_501\\lib\\site-packages\\gensim\\models\\word2vec.py\u001b[0m in \u001b[0;36mtrain\u001b[1;34m(self, sentences, total_examples, total_words, epochs, start_alpha, end_alpha, word_count, queue_factor, report_delay, compute_loss)\u001b[0m\n\u001b[0;32m   1074\u001b[0m \u001b[1;33m\u001b[0m\u001b[0m\n\u001b[0;32m   1075\u001b[0m         \u001b[1;32mwhile\u001b[0m \u001b[0munfinished_worker_count\u001b[0m \u001b[1;33m>\u001b[0m \u001b[1;36m0\u001b[0m\u001b[1;33m:\u001b[0m\u001b[1;33m\u001b[0m\u001b[0m\n\u001b[1;32m-> 1076\u001b[1;33m             \u001b[0mreport\u001b[0m \u001b[1;33m=\u001b[0m \u001b[0mprogress_queue\u001b[0m\u001b[1;33m.\u001b[0m\u001b[0mget\u001b[0m\u001b[1;33m(\u001b[0m\u001b[1;33m)\u001b[0m  \u001b[1;31m# blocks if workers too slow\u001b[0m\u001b[1;33m\u001b[0m\u001b[0m\n\u001b[0m\u001b[0;32m   1077\u001b[0m             \u001b[1;32mif\u001b[0m \u001b[0mreport\u001b[0m \u001b[1;32mis\u001b[0m \u001b[1;32mNone\u001b[0m\u001b[1;33m:\u001b[0m  \u001b[1;31m# a thread reporting that it finished\u001b[0m\u001b[1;33m\u001b[0m\u001b[0m\n\u001b[0;32m   1078\u001b[0m                 \u001b[0munfinished_worker_count\u001b[0m \u001b[1;33m-=\u001b[0m \u001b[1;36m1\u001b[0m\u001b[1;33m\u001b[0m\u001b[0m\n",
      "\u001b[1;32mD:\\Anaconda3_501\\lib\\queue.py\u001b[0m in \u001b[0;36mget\u001b[1;34m(self, block, timeout)\u001b[0m\n\u001b[0;32m    162\u001b[0m             \u001b[1;32melif\u001b[0m \u001b[0mtimeout\u001b[0m \u001b[1;32mis\u001b[0m \u001b[1;32mNone\u001b[0m\u001b[1;33m:\u001b[0m\u001b[1;33m\u001b[0m\u001b[0m\n\u001b[0;32m    163\u001b[0m                 \u001b[1;32mwhile\u001b[0m \u001b[1;32mnot\u001b[0m \u001b[0mself\u001b[0m\u001b[1;33m.\u001b[0m\u001b[0m_qsize\u001b[0m\u001b[1;33m(\u001b[0m\u001b[1;33m)\u001b[0m\u001b[1;33m:\u001b[0m\u001b[1;33m\u001b[0m\u001b[0m\n\u001b[1;32m--> 164\u001b[1;33m                     \u001b[0mself\u001b[0m\u001b[1;33m.\u001b[0m\u001b[0mnot_empty\u001b[0m\u001b[1;33m.\u001b[0m\u001b[0mwait\u001b[0m\u001b[1;33m(\u001b[0m\u001b[1;33m)\u001b[0m\u001b[1;33m\u001b[0m\u001b[0m\n\u001b[0m\u001b[0;32m    165\u001b[0m             \u001b[1;32melif\u001b[0m \u001b[0mtimeout\u001b[0m \u001b[1;33m<\u001b[0m \u001b[1;36m0\u001b[0m\u001b[1;33m:\u001b[0m\u001b[1;33m\u001b[0m\u001b[0m\n\u001b[0;32m    166\u001b[0m                 \u001b[1;32mraise\u001b[0m \u001b[0mValueError\u001b[0m\u001b[1;33m(\u001b[0m\u001b[1;34m\"'timeout' must be a non-negative number\"\u001b[0m\u001b[1;33m)\u001b[0m\u001b[1;33m\u001b[0m\u001b[0m\n",
      "\u001b[1;32mD:\\Anaconda3_501\\lib\\threading.py\u001b[0m in \u001b[0;36mwait\u001b[1;34m(self, timeout)\u001b[0m\n\u001b[0;32m    293\u001b[0m         \u001b[1;32mtry\u001b[0m\u001b[1;33m:\u001b[0m    \u001b[1;31m# restore state no matter what (e.g., KeyboardInterrupt)\u001b[0m\u001b[1;33m\u001b[0m\u001b[0m\n\u001b[0;32m    294\u001b[0m             \u001b[1;32mif\u001b[0m \u001b[0mtimeout\u001b[0m \u001b[1;32mis\u001b[0m \u001b[1;32mNone\u001b[0m\u001b[1;33m:\u001b[0m\u001b[1;33m\u001b[0m\u001b[0m\n\u001b[1;32m--> 295\u001b[1;33m                 \u001b[0mwaiter\u001b[0m\u001b[1;33m.\u001b[0m\u001b[0macquire\u001b[0m\u001b[1;33m(\u001b[0m\u001b[1;33m)\u001b[0m\u001b[1;33m\u001b[0m\u001b[0m\n\u001b[0m\u001b[0;32m    296\u001b[0m                 \u001b[0mgotit\u001b[0m \u001b[1;33m=\u001b[0m \u001b[1;32mTrue\u001b[0m\u001b[1;33m\u001b[0m\u001b[0m\n\u001b[0;32m    297\u001b[0m             \u001b[1;32melse\u001b[0m\u001b[1;33m:\u001b[0m\u001b[1;33m\u001b[0m\u001b[0m\n",
      "\u001b[1;31mKeyboardInterrupt\u001b[0m: "
     ]
    }
   ],
   "source": [
    "import gensim\n",
    "it_title = LabeledTitle(cleaned_df['title'])\n",
    "\n",
    "dv_title = gensim.models.Doc2Vec(size=100, window=5, min_count=5, workers=11,alpha=0.025, min_alpha=0.025)\n",
    "\n",
    "dv_title.build_vocab(it_title)\n",
    "\n",
    "for epoch in range(5):\n",
    "    dv_title.train(it_title, total_examples=dv_title.corpus_count, epochs=dv_title.iter)\n",
    "    dv_title.alpha -= 0.002            # decrease the learning rate\n",
    "    dv_title.min_alpha = dv_title.alpha       # fix the learning rate, no deca\n",
    "    dv_title.train(it_title, total_examples=dv_title.corpus_count, epochs=dv_title.iter)"
   ]
  },
  {
   "cell_type": "code",
   "execution_count": 60,
   "metadata": {
    "ExecuteTime": {
     "end_time": "2018-02-03T08:00:47.506715Z",
     "start_time": "2018-02-03T08:00:47.436661Z"
    },
    "collapsed": true
   },
   "outputs": [],
   "source": [
    "dv_title.save('./model/dv_title')"
   ]
  },
  {
   "cell_type": "code",
   "execution_count": 10,
   "metadata": {
    "ExecuteTime": {
     "end_time": "2018-02-07T09:16:01.001632Z",
     "start_time": "2018-02-07T09:11:49.981686Z"
    },
    "scrolled": true
   },
   "outputs": [
    {
     "name": "stderr",
     "output_type": "stream",
     "text": [
      "D:\\Anaconda3_501\\lib\\site-packages\\ipykernel_launcher.py:14: DeprecationWarning: Call to deprecated `LabeledSentence` (Class will be removed in 4.0.0, use TaggedDocument instead).\n",
      "  \n"
     ]
    },
    {
     "name": "stdout",
     "output_type": "stream",
     "text": [
      "0\n",
      "1\n",
      "2\n",
      "3\n",
      "4\n"
     ]
    }
   ],
   "source": [
    "it_text = LabeledText(cleaned_df['text'])\n",
    "\n",
    "dv_text = gensim.models.Doc2Vec(size=200, window=5, min_count=5, workers=11,alpha=0.025, min_alpha=0.025)\n",
    "\n",
    "dv_text.build_vocab(it_text)\n",
    "\n",
    "for epoch in range(5):\n",
    "    print(epoch)\n",
    "    dv_text.train(it_text, total_examples=dv_text.corpus_count, epochs=dv_text.iter)\n",
    "    dv_text.alpha -= 0.002            # decrease the learning rate\n",
    "    dv_text.min_alpha = dv_text.alpha       # fix the learning rate, no deca\n",
    "    dv_text.train(it_text, total_examples=dv_text.corpus_count, epochs=dv_text.iter)"
   ]
  },
  {
   "cell_type": "code",
   "execution_count": 12,
   "metadata": {
    "ExecuteTime": {
     "end_time": "2018-02-07T09:16:08.992054Z",
     "start_time": "2018-02-07T09:16:07.352583Z"
    },
    "collapsed": true
   },
   "outputs": [],
   "source": [
    "dv_text.save('./model/dv_text')"
   ]
  },
  {
   "cell_type": "code",
   "execution_count": 13,
   "metadata": {
    "ExecuteTime": {
     "end_time": "2018-02-07T09:16:39.072219Z",
     "start_time": "2018-02-07T09:16:39.021176Z"
    },
    "collapsed": true
   },
   "outputs": [],
   "source": [
    "text_vecs = np.asarray(dv_text.docvecs)\n",
    "# title_vecs = np.asarray(dv_title.docvecs)"
   ]
  },
  {
   "cell_type": "code",
   "execution_count": 15,
   "metadata": {
    "ExecuteTime": {
     "end_time": "2018-02-07T09:17:18.486500Z",
     "start_time": "2018-02-07T09:17:16.815463Z"
    }
   },
   "outputs": [],
   "source": [
    "import numpy as np\n",
    "np.savetxt('./model/doc_x.txt', text_vecs)"
   ]
  },
  {
   "cell_type": "code",
   "execution_count": 65,
   "metadata": {
    "ExecuteTime": {
     "end_time": "2018-02-03T08:07:17.302697Z",
     "start_time": "2018-02-03T08:07:17.292690Z"
    }
   },
   "outputs": [
    {
     "data": {
      "text/plain": [
       "((6335, 200), (6335, 100))"
      ]
     },
     "execution_count": 65,
     "metadata": {},
     "output_type": "execute_result"
    }
   ],
   "source": [
    "text_vecs.shape, title_vecs.shape"
   ]
  },
  {
   "cell_type": "code",
   "execution_count": 73,
   "metadata": {
    "ExecuteTime": {
     "end_time": "2018-02-03T08:08:58.920064Z",
     "start_time": "2018-02-03T08:08:58.907050Z"
    },
    "collapsed": true
   },
   "outputs": [],
   "source": [
    "X = np.column_stack((title_vecs, text_vecs))\n",
    "y = np.asarray(data['label'])"
   ]
  },
  {
   "cell_type": "code",
   "execution_count": null,
   "metadata": {
    "ExecuteTime": {
     "start_time": "2018-02-07T09:24:03.497Z"
    },
    "collapsed": true
   },
   "outputs": [],
   "source": [
    "np.savetxt('./model/y.txt', y)"
   ]
  },
  {
   "cell_type": "code",
   "execution_count": 76,
   "metadata": {
    "ExecuteTime": {
     "end_time": "2018-02-03T08:10:28.055283Z",
     "start_time": "2018-02-03T08:10:27.896159Z"
    },
    "collapsed": true
   },
   "outputs": [],
   "source": [
    "from sklearn.model_selection import train_test_split\n",
    "seed = 3\n",
    "X_train, X_test, y_train, y_test = train_test_split(X, y, test_size=0.3, random_state=seed)"
   ]
  },
  {
   "cell_type": "code",
   "execution_count": 84,
   "metadata": {
    "ExecuteTime": {
     "end_time": "2018-02-03T08:14:41.853665Z",
     "start_time": "2018-02-03T08:14:41.842149Z"
    },
    "collapsed": true
   },
   "outputs": [],
   "source": [
    "from sklearn.svm import SVC\n",
    "from sklearn.neural_network import MLPClassifier\n",
    "from sklearn.ensemble import RandomForestClassifier\n",
    "svc = SVC()\n",
    "mlp = MLPClassifier(hidden_layer_sizes=(50, 80, 100), max_iter=500)\n",
    "rfc = RandomForestClassifier(n_estimators=20, max_depth=10)"
   ]
  },
  {
   "cell_type": "code",
   "execution_count": 85,
   "metadata": {
    "ExecuteTime": {
     "end_time": "2018-02-03T08:14:58.401473Z",
     "start_time": "2018-02-03T08:14:42.678174Z"
    }
   },
   "outputs": [
    {
     "name": "stdout",
     "output_type": "stream",
     "text": [
      "Model:                       SVC | Accuracy: 0.91 | Precision: 0.89 | Recall: 0.93 | F1: 0.91\n",
      "Model:             MLPClassifier | Accuracy: 0.89 | Precision: 0.87 | Recall: 0.90 | F1: 0.88\n",
      "Model:    RandomForestClassifier | Accuracy: 0.83 | Precision: 0.84 | Recall: 0.82 | F1: 0.83\n"
     ]
    }
   ],
   "source": [
    "classify(X_train, y_train, X_test, [svc, mlp, rfc])"
   ]
  },
  {
   "cell_type": "code",
   "execution_count": null,
   "metadata": {
    "collapsed": true
   },
   "outputs": [],
   "source": []
  }
 ],
 "metadata": {
  "kernelspec": {
   "display_name": "Python 3",
   "language": "python",
   "name": "python3"
  },
  "language_info": {
   "codemirror_mode": {
    "name": "ipython",
    "version": 3
   },
   "file_extension": ".py",
   "mimetype": "text/x-python",
   "name": "python",
   "nbconvert_exporter": "python",
   "pygments_lexer": "ipython3",
   "version": "3.6.3"
  }
 },
 "nbformat": 4,
 "nbformat_minor": 2
}
