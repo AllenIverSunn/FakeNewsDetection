{
 "cells": [
  {
   "cell_type": "code",
   "execution_count": 1,
   "metadata": {
    "collapsed": true
   },
   "outputs": [],
   "source": [
    "import numpy as np\n",
    "import matplotlib.pyplot as plt\n",
    "import json\n",
    "import pandas as pd\n",
    "import gensim\n",
    "%matplotlib inline"
   ]
  },
  {
   "cell_type": "code",
   "execution_count": 2,
   "metadata": {
    "collapsed": true
   },
   "outputs": [],
   "source": [
    "## Load cleaned data\n",
    "with open('./model/cleaned_df.json') as f:\n",
    "    cleaned_df = json.loads(f.read())\n",
    "cleaned_df = pd.DataFrame(cleaned_df)"
   ]
  },
  {
   "cell_type": "code",
   "execution_count": 4,
   "metadata": {},
   "outputs": [
    {
     "data": {
      "text/html": [
       "<div>\n",
       "<style>\n",
       "    .dataframe thead tr:only-child th {\n",
       "        text-align: right;\n",
       "    }\n",
       "\n",
       "    .dataframe thead th {\n",
       "        text-align: left;\n",
       "    }\n",
       "\n",
       "    .dataframe tbody tr th {\n",
       "        vertical-align: top;\n",
       "    }\n",
       "</style>\n",
       "<table border=\"1\" class=\"dataframe\">\n",
       "  <thead>\n",
       "    <tr style=\"text-align: right;\">\n",
       "      <th></th>\n",
       "      <th>text</th>\n",
       "      <th>title</th>\n",
       "    </tr>\n",
       "  </thead>\n",
       "  <tbody>\n",
       "    <tr>\n",
       "      <th>0</th>\n",
       "      <td>[daniel, greenfield, shillman, journalism, fel...</td>\n",
       "      <td>[smell, hillarys, fear]</td>\n",
       "    </tr>\n",
       "    <tr>\n",
       "      <th>1</th>\n",
       "      <td>[google, pinterest, digg, linkedin, reddit, st...</td>\n",
       "      <td>[watch, exact, moment, paul, ryan, committed, ...</td>\n",
       "    </tr>\n",
       "    <tr>\n",
       "      <th>2</th>\n",
       "      <td>[us, secretary, state, john, f, kerry, said, m...</td>\n",
       "      <td>[kerry, go, paris, gesture, sympathy]</td>\n",
       "    </tr>\n",
       "    <tr>\n",
       "      <th>3</th>\n",
       "      <td>[kaydee, king, kaydeeking, november, 9, 2016, ...</td>\n",
       "      <td>[bernie, supporters, twitter, erupt, anger, dn...</td>\n",
       "    </tr>\n",
       "    <tr>\n",
       "      <th>4</th>\n",
       "      <td>[primary, day, new, york, frontrunners, hillar...</td>\n",
       "      <td>[battle, new, york, primary, matters]</td>\n",
       "    </tr>\n",
       "  </tbody>\n",
       "</table>\n",
       "</div>"
      ],
      "text/plain": [
       "                                                text  \\\n",
       "0  [daniel, greenfield, shillman, journalism, fel...   \n",
       "1  [google, pinterest, digg, linkedin, reddit, st...   \n",
       "2  [us, secretary, state, john, f, kerry, said, m...   \n",
       "3  [kaydee, king, kaydeeking, november, 9, 2016, ...   \n",
       "4  [primary, day, new, york, frontrunners, hillar...   \n",
       "\n",
       "                                               title  \n",
       "0                            [smell, hillarys, fear]  \n",
       "1  [watch, exact, moment, paul, ryan, committed, ...  \n",
       "2              [kerry, go, paris, gesture, sympathy]  \n",
       "3  [bernie, supporters, twitter, erupt, anger, dn...  \n",
       "4              [battle, new, york, primary, matters]  "
      ]
     },
     "execution_count": 4,
     "metadata": {},
     "output_type": "execute_result"
    }
   ],
   "source": [
    "cleaned_df.head()"
   ]
  },
  {
   "cell_type": "markdown",
   "metadata": {},
   "source": [
    "## Doc2Vec on text"
   ]
  },
  {
   "cell_type": "code",
   "execution_count": 6,
   "metadata": {
    "collapsed": true
   },
   "outputs": [],
   "source": [
    "from gensim.models.doc2vec import LabeledSentence\n",
    "class LabeledTitle:\n",
    "    def __init__(self, wordsLists):\n",
    "        self.wordsLists = wordsLists\n",
    "    def __iter__(self):\n",
    "        for i, words in enumerate(self.wordsLists):\n",
    "            yield LabeledSentence(words=words, tags=[i])\n",
    "            \n",
    "class LabeledText:\n",
    "    def __init__(self, wordsLists):\n",
    "        self.wordsLists = wordsLists\n",
    "    def __iter__(self):\n",
    "        for i, words in enumerate(self.wordsLists):\n",
    "            yield LabeledSentence(words=words, tags=[i])\n",
    "\n",
    "it_text = LabeledText(cleaned_df['text'])"
   ]
  },
  {
   "cell_type": "code",
   "execution_count": 7,
   "metadata": {
    "collapsed": true
   },
   "outputs": [],
   "source": [
    "## Train the model given the window size and the dimension of the vector\n",
    "def train(window, size):\n",
    "    dv_text = gensim.models.Doc2Vec(size=size, window=window, min_count=1,\n",
    "                                    workers=11,alpha=0.025, min_alpha=0.025)\n",
    "    dv_text.build_vocab(it_text)\n",
    "\n",
    "    for epoch in range(5):\n",
    "        dv_text.train(it_text, total_examples=dv_text.corpus_count, epochs=dv_text.iter)\n",
    "        dv_text.alpha -= 0.002            # decrease the learning rate\n",
    "        dv_text.min_alpha = dv_text.alpha       # fix the learning rate, no deca\n",
    "        dv_text.train(it_text, total_examples=dv_text.corpus_count, epochs=dv_text.iter)\n",
    "    return np.asarray(dv_text.docvecs)"
   ]
  },
  {
   "cell_type": "markdown",
   "metadata": {},
   "source": [
    "To evaluate the performance of the Doc2Vec model, an assumption is made that the Doc2Vec model is good if the eigon values of the documents matrix (each row represents a document) are close to each other. That is, each dimension of the document vector can represent an independent semantic meaning. Thus, the standard deviation of the eigon values is used here as the scorer of the cross-validation process."
   ]
  },
  {
   "cell_type": "code",
   "execution_count": 8,
   "metadata": {
    "collapsed": true
   },
   "outputs": [],
   "source": [
    "def assess(docvecs):\n",
    "    _, s, _ = np.linalg.svd(docvecs)\n",
    "    return np.std(docvecs)"
   ]
  },
  {
   "cell_type": "code",
   "execution_count": 9,
   "metadata": {
    "collapsed": true
   },
   "outputs": [],
   "source": [
    "params = {\n",
    "    'window': [2, 3, 4, 5, 6, 7],\n",
    "    'size': [100, 200, 300, 400]\n",
    "}"
   ]
  },
  {
   "cell_type": "markdown",
   "metadata": {},
   "source": [
    "## Use my own gridsearch algorithm"
   ]
  },
  {
   "cell_type": "code",
   "execution_count": 11,
   "metadata": {
    "collapsed": true
   },
   "outputs": [],
   "source": [
    "from itertools import product"
   ]
  },
  {
   "cell_type": "code",
   "execution_count": 14,
   "metadata": {},
   "outputs": [
    {
     "name": "stderr",
     "output_type": "stream",
     "text": [
      "D:\\Anaconda3_501\\lib\\site-packages\\ipykernel_launcher.py:14: DeprecationWarning: Call to deprecated `LabeledSentence` (Class will be removed in 4.0.0, use TaggedDocument instead).\n",
      "  \n"
     ]
    },
    {
     "name": "stdout",
     "output_type": "stream",
     "text": [
      "window: 2 | size: 100 | std: 1.389212727546692\n",
      "window: 2 | size: 200 | std: 1.1692640781402588\n",
      "window: 2 | size: 300 | std: 1.027209758758545\n",
      "window: 2 | size: 400 | std: 0.9105091691017151\n",
      "window: 3 | size: 100 | std: 1.5845670700073242\n",
      "window: 3 | size: 200 | std: 1.3133844137191772\n",
      "window: 3 | size: 300 | std: 1.1476316452026367\n",
      "window: 3 | size: 400 | std: 1.0154848098754883\n",
      "window: 4 | size: 100 | std: 1.7485743761062622\n",
      "window: 4 | size: 200 | std: 1.4314677715301514\n",
      "window: 4 | size: 300 | std: 1.246058702468872\n",
      "window: 4 | size: 400 | std: 1.1014412641525269\n",
      "window: 5 | size: 100 | std: 1.8812700510025024\n",
      "window: 5 | size: 200 | std: 1.5344595909118652\n",
      "window: 5 | size: 300 | std: 1.3295661211013794\n",
      "window: 5 | size: 400 | std: 1.1746494770050049\n",
      "window: 6 | size: 100 | std: 1.9890187978744507\n",
      "window: 6 | size: 200 | std: 1.6198973655700684\n",
      "window: 6 | size: 300 | std: 1.4002981185913086\n",
      "window: 6 | size: 400 | std: 1.2363835573196411\n",
      "window: 7 | size: 100 | std: 2.0860564708709717\n",
      "window: 7 | size: 200 | std: 1.6932164430618286\n",
      "window: 7 | size: 300 | std: 1.4631848335266113\n",
      "window: 7 | size: 400 | std: 1.2899662256240845\n"
     ]
    }
   ],
   "source": [
    "result = {}\n",
    "for window, size in product(params['window'], params['size']):\n",
    "    docvecs = train(window, size)\n",
    "    score = assess(docvecs)\n",
    "    result[(window, size)] = score\n",
    "    print('window: {} | size: {} | std: {}'.format(window, size, score))\n",
    "    gc.collect()"
   ]
  },
  {
   "cell_type": "code",
   "execution_count": 17,
   "metadata": {
    "collapsed": true
   },
   "outputs": [],
   "source": [
    "result_df = {\n",
    "    'window': [],\n",
    "    'size': [],\n",
    "    'std': []\n",
    "}\n",
    "for key, val in zip(result.keys(), result.values()):\n",
    "    result_df['window'].append(key[0])\n",
    "    result_df['size'].append(key[1])\n",
    "    result_df['std'].append(val)"
   ]
  },
  {
   "cell_type": "code",
   "execution_count": 18,
   "metadata": {
    "collapsed": true
   },
   "outputs": [],
   "source": [
    "result_df = pd.DataFrame(result_df)"
   ]
  },
  {
   "cell_type": "code",
   "execution_count": null,
   "metadata": {
    "collapsed": true
   },
   "outputs": [],
   "source": [
    "%%R -i result_df\n",
    "library(ggplot2)\n",
    "ggplot(data=result_df, aes(x=window, y=size)) + geom_point(aes(size=std, color=std))"
   ]
  },
  {
   "cell_type": "code",
   "execution_count": 11,
   "metadata": {
    "ExecuteTime": {
     "end_time": "2018-02-22T08:08:25.557418Z",
     "start_time": "2018-02-22T08:08:25.160136Z"
    },
    "collapsed": true
   },
   "outputs": [],
   "source": [
    "import numpy as np\n",
    "import pandas as pd\n",
    "%load_ext rpy2.ipython"
   ]
  },
  {
   "cell_type": "code",
   "execution_count": 5,
   "metadata": {
    "ExecuteTime": {
     "end_time": "2018-02-22T08:06:36.142412Z",
     "start_time": "2018-02-22T08:06:36.115394Z"
    },
    "collapsed": true
   },
   "outputs": [],
   "source": [
    "result = np.asarray([[2, 100, 1.389212727546692],\n",
    "[2, 200, 1.1692640781402588],\n",
    "[2, 300, 1.027209758758545],\n",
    "[2, 400, 0.9105091691017151],\n",
    "[3, 100, 1.5845670700073242],\n",
    "[3, 200, 1.3133844137191772],\n",
    "[3, 300, 1.1476316452026367],\n",
    "[3, 400, 1.0154848098754883],\n",
    "[4, 100, 1.7485743761062622],\n",
    "[4, 200, 1.4314677715301514],\n",
    "[4, 300, 1.246058702468872],\n",
    "[4, 400, 1.1014412641525269],\n",
    "[5, 100, 1.8812700510025024],\n",
    "[5, 200, 1.5344595909118652],\n",
    "[5, 300, 1.3295661211013794],\n",
    "[5, 400, 1.1746494770050049],\n",
    "[6, 100, 1.9890187978744507],\n",
    "[6, 200, 1.6198973655700684],\n",
    "[6, 300, 1.4002981185913086],\n",
    "[6, 400, 1.2363835573196411],\n",
    "[7, 100, 2.0860564708709717],\n",
    "[7, 200, 1.6932164430618286],\n",
    "[7, 300, 1.4631848335266113],\n",
    "[7, 400, 1.2899662256240845]])"
   ]
  },
  {
   "cell_type": "code",
   "execution_count": 15,
   "metadata": {
    "ExecuteTime": {
     "end_time": "2018-02-22T08:09:19.984770Z",
     "start_time": "2018-02-22T08:09:19.977765Z"
    }
   },
   "outputs": [],
   "source": [
    "result_df = {\n",
    "    'window': result[:, 0].tolist(),\n",
    "    'size': result[:, 1].tolist(),\n",
    "    'std': (result[:, 2]*5).tolist()\n",
    "}\n",
    "result_df = pd.DataFrame(result_df)"
   ]
  },
  {
   "cell_type": "code",
   "execution_count": 18,
   "metadata": {
    "ExecuteTime": {
     "end_time": "2018-02-22T08:10:10.115593Z",
     "start_time": "2018-02-22T08:10:09.777349Z"
    }
   },
   "outputs": [
    {
     "data": {
      "image/png": "[encoded data removed]"
     },
     "metadata": {},
     "output_type": "display_data"
    }
   ],
   "source": [
    "%%R -i result_df\n",
    "library(ggplot2)\n",
    "ggplot(data=result_df, aes(x=window, y=size)) + geom_point(aes(size=1/std, color=1/std))"
   ]
  },
  {
   "cell_type": "code",
   "execution_count": null,
   "metadata": {
    "collapsed": true
   },
   "outputs": [],
   "source": []
  }
 ],
 "metadata": {
  "kernelspec": {
   "display_name": "Python 3",
   "language": "python",
   "name": "python3"
  },
  "language_info": {
   "codemirror_mode": {
    "name": "ipython",
    "version": 3
   },
   "file_extension": ".py",
   "mimetype": "text/x-python",
   "name": "python",
   "nbconvert_exporter": "python",
   "pygments_lexer": "ipython3",
   "version": "3.6.3"
  }
 },
 "nbformat": 4,
 "nbformat_minor": 2
}
